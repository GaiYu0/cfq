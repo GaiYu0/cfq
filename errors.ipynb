{
 "cells": [
  {
   "cell_type": "code",
   "execution_count": 1,
   "metadata": {},
   "outputs": [],
   "source": [
    "from itertools import islice\n",
    "import json\n",
    "import pickle\n",
    "\n",
    "import matplotlib.pylab as pl\n",
    "%matplotlib inline\n",
    "import numpy as np\n",
    "from sklearn.metrics import confusion_matrix"
   ]
  },
  {
   "cell_type": "code",
   "execution_count": 2,
   "metadata": {},
   "outputs": [],
   "source": [
    "input_dir = '/work/yu_gai/cfq'"
   ]
  },
  {
   "cell_type": "code",
   "execution_count": 3,
   "metadata": {},
   "outputs": [],
   "source": [
    "idx2tok, _ = pickle.load(open(f'{input_dir}/vocab.pickle', 'rb'))\n",
    "idx2rel, _ = pickle.load(open(f'{input_dir}/rel-vocab.pickle', 'rb'))"
   ]
  },
  {
   "cell_type": "code",
   "execution_count": 43,
   "metadata": {},
   "outputs": [],
   "source": [
    "desc = 'test'\n",
    "global_step = 1"
   ]
  },
  {
   "cell_type": "code",
   "execution_count": 26,
   "metadata": {},
   "outputs": [],
   "source": [
    "split = 'mcd1'\n",
    "d = np.load(f'{input_dir}/splits/{split}.npz')\n",
    "idx = d[f'{desc}Idxs']"
   ]
  },
  {
   "cell_type": "code",
   "execution_count": 44,
   "metadata": {},
   "outputs": [],
   "source": [
    "d = np.load(f'{input_dir}/{desc}-{global_step}.npz')\n",
    "m, src, dst, rel_true, rel_pred, cfq_idx = d['m'], d['src'], d['dst'], d['rel_true'], d['rel_pred'], d['cfq_idx']"
   ]
  },
  {
   "cell_type": "code",
   "execution_count": 23,
   "metadata": {},
   "outputs": [],
   "source": [
    "df = sqlCtx.read.parquet(f'/data/yu_gai/cfq/dataset.parquet/')"
   ]
  },
  {
   "cell_type": "code",
   "execution_count": 18,
   "metadata": {},
   "outputs": [],
   "source": [
    "question = df.rdd.map(lambda r: r['questionPatternModEntities']).collect()"
   ]
  },
  {
   "cell_type": "code",
   "execution_count": 9,
   "metadata": {},
   "outputs": [],
   "source": [
    "sparql = df.rdd.map(lambda r: r['sparqlPatternModEntities']).collect()"
   ]
  },
  {
   "cell_type": "code",
   "execution_count": 35,
   "metadata": {},
   "outputs": [],
   "source": [
    "class bcolors:\n",
    "    HEADER = '\\033[95m'\n",
    "    OKBLUE = '\\033[94m'\n",
    "    OKGREEN = '\\033[92m'\n",
    "    WARNING = '\\033[93m'\n",
    "    FAIL = '\\033[91m'\n",
    "    ENDC = '\\033[0m'\n",
    "    BOLD = '\\033[1m'\n",
    "    UNDERLINE = '\\033[4m'"
   ]
  },
  {
   "cell_type": "code",
   "execution_count": 49,
   "metadata": {},
   "outputs": [
    {
     "name": "stdout",
     "output_type": "stream",
     "text": [
      "Were M1 and M3 produced by M0 's cinematographer , writer , art director , and executive producer and directed by M2\n",
      "SELECT count(*) WHERE {\n",
      "?x0 ns:film.cinematographer.film M0 .\n",
      "?x0 ns:film.film_art_director.films_art_directed M0 .\n",
      "?x0 ns:film.producer.films_executive_produced M0 .\n",
      "?x0 ns:film.writer.film M0 .\n",
      "M1 ns:film.film.directed_by M2 .\n",
      "M1 ns:film.film.produced_by|ns:film.film.production_companies ?x0 .\n",
      "M3 ns:film.film.directed_by M2 .\n",
      "M3 ns:film.film.produced_by|ns:film.film.production_companies ?x0\n",
      "}\n",
      "\u001b[91m?x0 ns:film.writer.film M0\u001b[0m ns:film.cinematographer.film\n",
      "\u001b[91m?x0 ns:film.writer.film M0\u001b[0m ns:film.film_art_director.films_art_directed\n",
      "\u001b[91m?x0 ns:film.writer.film M0\u001b[0m ns:film.producer.films_executive_produced\n",
      "\u001b[0m?x0 ns:film.writer.film M0\u001b[0m\n",
      "\u001b[0mM1 ns:film.film.directed_by M2\u001b[0m\n",
      "\u001b[0mM1 ns:film.film.produced_by|ns:film.film.production_companies ?x0\u001b[0m\n",
      "\u001b[0mM3 ns:film.film.directed_by M2\u001b[0m\n",
      "\u001b[0mM3 ns:film.film.produced_by|ns:film.film.production_companies ?x0\u001b[0m\n",
      "\n",
      "Were M1 and M2 executive produced by M0 's writer , producer , art director , and director\n",
      "SELECT count(*) WHERE {\n",
      "?x0 ns:film.director.film M0 .\n",
      "?x0 ns:film.film_art_director.films_art_directed M0 .\n",
      "?x0 ns:film.producer.film|ns:film.production_company.films M0 .\n",
      "?x0 ns:film.writer.film M0 .\n",
      "M1 ns:film.film.executive_produced_by ?x0 .\n",
      "M2 ns:film.film.executive_produced_by ?x0\n",
      "}\n",
      "\u001b[91m?x0 ns:film.film_art_director.films_art_directed M0\u001b[0m ns:film.director.film\n",
      "\u001b[0m?x0 ns:film.film_art_director.films_art_directed M0\u001b[0m\n",
      "\u001b[91m?x0 ns:film.film_art_director.films_art_directed M0\u001b[0m ns:film.producer.film|ns:film.production_company.films\n",
      "\u001b[91m?x0 ns:film.film_art_director.films_art_directed M0\u001b[0m ns:film.writer.film\n",
      "\u001b[0mM1 ns:film.film.executive_produced_by ?x0\u001b[0m\n",
      "\u001b[0mM2 ns:film.film.executive_produced_by ?x0\u001b[0m\n",
      "\n",
      "Were M1 and M4 executive produced by M2 and M3 and executive produced by a art director , star , and cinematographer of M0\n",
      "SELECT count(*) WHERE {\n",
      "?x0 ns:film.actor.film/ns:film.performance.film M0 .\n",
      "?x0 ns:film.cinematographer.film M0 .\n",
      "?x0 ns:film.film_art_director.films_art_directed M0 .\n",
      "M1 ns:film.film.executive_produced_by ?x0 .\n",
      "M1 ns:film.film.executive_produced_by M2 .\n",
      "M1 ns:film.film.executive_produced_by M3 .\n",
      "M4 ns:film.film.executive_produced_by ?x0 .\n",
      "M4 ns:film.film.executive_produced_by M2 .\n",
      "M4 ns:film.film.executive_produced_by M3\n",
      "}\n",
      "\u001b[0m?x0 ns:film.actor.film/ns:film.performance.film M0\u001b[0m\n",
      "\u001b[91m?x0 ns:film.actor.film/ns:film.performance.film M0\u001b[0m ns:film.cinematographer.film\n",
      "\u001b[91m?x0 ns:film.actor.film/ns:film.performance.film M0\u001b[0m ns:film.film_art_director.films_art_directed\n",
      "\u001b[0mM1 ns:film.film.executive_produced_by ?x0\u001b[0m\n",
      "\u001b[0mM1 ns:film.film.executive_produced_by M2\u001b[0m\n",
      "\u001b[0mM1 ns:film.film.executive_produced_by M3\u001b[0m\n",
      "\u001b[0mM4 ns:film.film.executive_produced_by ?x0\u001b[0m\n",
      "\u001b[0mM4 ns:film.film.executive_produced_by M2\u001b[0m\n",
      "\u001b[0mM4 ns:film.film.executive_produced_by M3\u001b[0m\n",
      "\n",
      "Were M1 and M4 edited by M3 , produced by M2 , and executive produced by M0 's art director and executive producer\n",
      "SELECT count(*) WHERE {\n",
      "?x0 ns:film.film_art_director.films_art_directed M0 .\n",
      "?x0 ns:film.producer.films_executive_produced M0 .\n",
      "M1 ns:film.film.edited_by M3 .\n",
      "M1 ns:film.film.executive_produced_by ?x0 .\n",
      "M1 ns:film.film.produced_by|ns:film.film.production_companies M2 .\n",
      "M4 ns:film.film.edited_by M3 .\n",
      "M4 ns:film.film.executive_produced_by ?x0 .\n",
      "M4 ns:film.film.produced_by|ns:film.film.production_companies M2\n",
      "}\n",
      "\u001b[0m?x0 ns:film.film_art_director.films_art_directed M0\u001b[0m\n",
      "\u001b[91m?x0 ns:film.film_art_director.films_art_directed M0\u001b[0m ns:film.producer.films_executive_produced\n",
      "\u001b[0mM1 ns:film.film.edited_by M3\u001b[0m\n",
      "\u001b[0mM1 ns:film.film.executive_produced_by ?x0\u001b[0m\n",
      "\u001b[0mM1 ns:film.film.produced_by|ns:film.film.production_companies M2\u001b[0m\n",
      "\u001b[0mM4 ns:film.film.edited_by M3\u001b[0m\n",
      "\u001b[0mM4 ns:film.film.executive_produced_by ?x0\u001b[0m\n",
      "\u001b[0mM4 ns:film.film.produced_by|ns:film.film.production_companies M2\u001b[0m\n",
      "\n",
      "Were M1 , M2 , and M3 executive produced by a art director\n",
      "SELECT count(*) WHERE {\n",
      "?x0 a ns:film.film_art_director .\n",
      "M1 ns:film.film.executive_produced_by ?x0 .\n",
      "M2 ns:film.film.executive_produced_by ?x0 .\n",
      "M3 ns:film.film.executive_produced_by ?x0\n",
      "}\n",
      "\u001b[0m?x0 a ns:film.film_art_director\u001b[0m\n",
      "\u001b[0mM1 ns:film.film.executive_produced_by ?x0\u001b[0m\n",
      "\u001b[0mM2 ns:film.film.executive_produced_by ?x0\u001b[0m\n",
      "\u001b[0mM3 ns:film.film.executive_produced_by ?x0\u001b[0m\n",
      "\n"
     ]
    }
   ],
   "source": [
    "indptr = np.cumsum(np.hstack([[0], m]))\n",
    "for i, j, k in islice(zip(cfq_idx, indptr[:-1], indptr[1:]), 5):\n",
    "    print(question[i])\n",
    "    print(sparql[i])\n",
    "\n",
    "    for src_, dst_, rel_true_, rel_pred_ in zip(src[j : k], dst[j : k], rel_true[j : k], rel_pred[j : k]):\n",
    "        prefix = bcolors.ENDC if rel_true_ == rel_pred_ else bcolors.FAIL\n",
    "        postfix = '' if rel_true_ == rel_pred_ else ' ' + idx2rel[rel_true_]\n",
    "        print(f'{prefix}{idx2tok[src_]} {idx2rel[rel_pred_]} {idx2tok[dst_]}{bcolors.ENDC}{postfix}')\n",
    "\n",
    "    print()"
   ]
  },
  {
   "cell_type": "code",
   "execution_count": 53,
   "metadata": {},
   "outputs": [
    {
     "name": "stdout",
     "output_type": "stream",
     "text": [
      "?x0 ns:film.cinematographer.film M0\n",
      "?x0 ns:film.writer.film M0\n",
      "\n",
      "?x0 ns:film.film_art_director.films_art_directed M0\n",
      "?x0 ns:film.writer.film M0\n",
      "\n",
      "?x0 ns:film.producer.films_executive_produced M0\n",
      "?x0 ns:film.writer.film M0\n",
      "\n",
      "M1 ns:film.film.directed_by M2\n",
      "M1 ns:film.film_art_director.films_art_directed M2\n",
      "\n",
      "M1 ns:film.film.produced_by|ns:film.film.production_companies ?x0\n",
      "M1 ns:film.film.directed_by ?x0\n",
      "\n",
      "M3 ns:film.film.directed_by M2\n",
      "M3 ns:film.director.film M2\n",
      "\n",
      "?x0 ns:film.director.film M0\n",
      "?x0 ns:film.writer.film M0\n",
      "\n",
      "?x0 ns:film.film_art_director.films_art_directed M0\n",
      "?x0 ns:film.writer.film M0\n",
      "\n",
      "?x0 ns:film.producer.film|ns:film.production_company.films M0\n",
      "?x0 ns:film.writer.film M0\n",
      "\n",
      "M1 ns:film.film.executive_produced_by ?x0\n",
      "M1 ns:film.film.produced_by|ns:film.film.production_companies ?x0\n",
      "\n",
      "M2 ns:film.film.executive_produced_by ?x0\n",
      "M2 ns:film.film.produced_by|ns:film.film.production_companies ?x0\n",
      "\n",
      "?x0 ns:film.cinematographer.film M0\n",
      "?x0 ns:film.actor.film/ns:film.performance.film M0\n",
      "\n",
      "?x0 ns:film.film_art_director.films_art_directed M0\n",
      "?x0 ns:film.actor.film/ns:film.performance.film M0\n",
      "\n",
      "M1 ns:film.film.executive_produced_by M2\n",
      "M1 ns:film.actor.film/ns:film.performance.film M2\n",
      "\n",
      "M1 ns:film.film.executive_produced_by M3\n",
      "M1 ns:film.cinematographer.film M3\n",
      "\n",
      "M4 ns:film.film.executive_produced_by M2\n",
      "M4 ns:film.cinematographer.film M2\n",
      "\n",
      "M4 ns:film.film.executive_produced_by M3\n",
      "M4 ns:film.cinematographer.film M3\n",
      "\n",
      "?x0 ns:film.producer.films_executive_produced M0\n",
      "?x0 ns:film.film_art_director.films_art_directed M0\n",
      "\n",
      "M1 ns:film.film.edited_by M3\n",
      "M1 ns:film.producer.films_executive_produced M3\n",
      "\n",
      "M1 ns:film.film.executive_produced_by ?x0\n",
      "M1 ns:film.film.edited_by ?x0\n",
      "\n",
      "M1 ns:film.film.produced_by|ns:film.film.production_companies M2\n",
      "M1 ns:film.producer.films_executive_produced M2\n",
      "\n",
      "M4 ns:film.film.edited_by M3\n",
      "M4 ns:film.film_art_director.films_art_directed M3\n",
      "\n",
      "M4 ns:film.film.executive_produced_by ?x0\n",
      "M4 ns:film.film.edited_by ?x0\n",
      "\n",
      "M4 ns:film.film.produced_by|ns:film.film.production_companies M2\n",
      "M4 ns:film.film_art_director.films_art_directed M2\n",
      "\n",
      "?x0 ns:film.cinematographer.film M0\n",
      "?x0 ns:film.director.film M0\n",
      "\n",
      "?x0 ns:film.producer.films_executive_produced M0\n",
      "?x0 ns:film.director.film M0\n",
      "\n",
      "?x0 ns:film.producer.film|ns:film.production_company.films M0\n",
      "?x0 ns:film.director.film M0\n",
      "\n",
      "M1 ns:film.film.executive_produced_by ?x0\n",
      "M1 ns:film.producer.film|ns:film.production_company.films ?x0\n",
      "\n",
      "M2 ns:film.film.executive_produced_by ?x0\n",
      "M2 ns:film.producer.film|ns:film.production_company.films ?x0\n",
      "\n",
      "M3 ns:film.film.executive_produced_by ?x0\n",
      "M3 ns:film.producer.film|ns:film.production_company.films ?x0\n",
      "\n",
      "M4 ns:film.film.executive_produced_by ?x0\n",
      "M4 ns:film.producer.film|ns:film.production_company.films ?x0\n",
      "\n",
      "M5 ns:film.film.executive_produced_by ?x0\n",
      "M5 ns:film.director.film ?x0\n",
      "\n",
      "?x0 != ?x1\n",
      "?x0 ns:people.person.spouse_s/ns:people.marriage.spouse|ns:fictional_universe.fictional_character.married_to/ns:fictional_universe.marriage_of_fictional_characters.spouses ?x1\n",
      "\n",
      "M1 ns:film.film.directed_by M3\n",
      "M1 ns:film.director.film M3\n",
      "\n",
      "M1 ns:film.film.edited_by M2\n",
      "M1 ns:film.editor.film M2\n",
      "\n",
      "M4 ns:film.film.edited_by M2\n",
      "M4 ns:film.editor.film M2\n",
      "\n",
      "M5 ns:film.film.directed_by M3\n",
      "M5 ns:film.director.film M3\n",
      "\n",
      "M5 ns:film.film.edited_by M2\n",
      "M5 ns:film.editor.film M2\n",
      "\n",
      "M2 ns:film.film.produced_by|ns:film.film.production_companies ?x0\n",
      "M2 ns:film.film.directed_by ?x0\n",
      "\n",
      "?x0 ns:film.actor.film/ns:film.performance.film ?x1\n",
      "?x0 ns:film.producer.films_executive_produced ?x1\n",
      "\n",
      "?x0 ns:film.producer.film|ns:film.production_company.films ?x1\n",
      "?x0 ns:film.producer.films_executive_produced ?x1\n",
      "\n",
      "M1 ns:film.film.executive_produced_by ?x0\n",
      "M1 ns:film.producer.films_executive_produced ?x0\n",
      "\n",
      "M1 ns:film.film.written_by ?x0\n",
      "M1 ns:film.producer.films_executive_produced ?x0\n",
      "\n",
      "M2 ns:film.film.executive_produced_by ?x0\n",
      "M2 ns:film.film.written_by ?x0\n",
      "\n",
      "?x0 ns:people.person.parents|ns:fictional_universe.fictional_character.parents|ns:organization.organization.parent/ns:organization.organization_relationship.parent ?x1\n",
      "?x0 ns:people.person.sibling_s/ns:people.sibling_relationship.sibling|ns:fictional_universe.fictional_character.siblings/ns:fictional_universe.sibling_relationship_of_fictional_characters.siblings ?x1\n",
      "\n",
      "?x1 != M0\n",
      "?x1 ns:people.person.sibling_s/ns:people.sibling_relationship.sibling|ns:fictional_universe.fictional_character.siblings/ns:fictional_universe.sibling_relationship_of_fictional_characters.siblings M0\n",
      "\n"
     ]
    }
   ],
   "source": [
    "for src, dst, rel_true, rel_pred in islice(zip(d['src'], d['dst'], d['rel_true'], d['rel_pred']), 100):\n",
    "    if rel_true != rel_pred:\n",
    "        print(idx2tok[src], idx2rel[rel_true], idx2tok[dst])\n",
    "        print(idx2tok[src], idx2rel[rel_pred], idx2tok[dst])\n",
    "        print()"
   ]
  },
  {
   "cell_type": "code",
   "execution_count": 72,
   "metadata": {},
   "outputs": [
    {
     "data": {
      "text/plain": [
       "<matplotlib.colorbar.Colorbar at 0x7fc535515460>"
      ]
     },
     "execution_count": 72,
     "metadata": {},
     "output_type": "execute_result"
    },
    {
     "data": {
      "image/png": "[encoded data removed]",
      "text/plain": [
       "<Figure size 432x288 with 2 Axes>"
      ]
     },
     "metadata": {
      "needs_background": "light"
     },
     "output_type": "display_data"
    }
   ],
   "source": [
    "cm = confusion_matrix(rel_true, rel_pred, normalize='pred')\n",
    "pl.imshow(cm)\n",
    "pl.xlabel('pred')\n",
    "pl.ylabel('true')\n",
    "pl.colorbar()"
   ]
  },
  {
   "cell_type": "code",
   "execution_count": 67,
   "metadata": {},
   "outputs": [
    {
     "data": {
      "text/plain": [
       "Text(0, 0.5, 'tpr')"
      ]
     },
     "execution_count": 67,
     "metadata": {},
     "output_type": "execute_result"
    },
    {
     "data": {
      "image/png": "[encoded data removed]",
      "text/plain": [
       "<Figure size 432x288 with 1 Axes>"
      ]
     },
     "metadata": {
      "needs_background": "light"
     },
     "output_type": "display_data"
    }
   ],
   "source": [
    "u, c = np.unique(rel_true, return_counts=True)\n",
    "pl.plot(c / c.sum(), np.diag(cm), 'bo')\n",
    "pl.xlabel('freq')\n",
    "pl.ylabel('tpr')"
   ]
  },
  {
   "cell_type": "code",
   "execution_count": 71,
   "metadata": {},
   "outputs": [
    {
     "data": {
      "text/plain": [
       "[(0.0, 'ns:film.film.film_art_direction_by'),\n",
       " (0.14285714285714285, 'ns:film.film.cinematography'),\n",
       " (0.35660928873010717,\n",
       "  'ns:film.film.produced_by|ns:film.film.production_companies'),\n",
       " (0.4159829838954725,\n",
       "  'ns:people.person.spouse_s/ns:people.marriage.spouse|ns:fictional_universe.fictional_character.married_to/ns:fictional_universe.marriage_of_fictional_characters.spouses'),\n",
       " (0.4327760772309866, '!='),\n",
       " (0.43363086668586237, 'ns:film.director.film'),\n",
       " (0.4373239436619718,\n",
       "  'ns:people.person.sibling_s/ns:people.sibling_relationship.sibling|ns:fictional_universe.fictional_character.siblings/ns:fictional_universe.sibling_relationship_of_fictional_characters.siblings'),\n",
       " (0.4458478903520559, 'ns:film.editor.film'),\n",
       " (0.44822485207100593, 'ns:film.writer.film'),\n",
       " (0.45097063215530114,\n",
       "  'ns:film.producer.film|ns:film.production_company.films'),\n",
       " (0.45193798449612405, 'ns:film.cinematographer.film'),\n",
       " (0.45433893684688775, 'ns:film.film.directed_by'),\n",
       " (0.47023809523809523, 'ns:film.film.written_by'),\n",
       " (0.470960929250264, 'ns:film.film_art_director.films_art_directed'),\n",
       " (0.48674821610601426, 'ns:film.film.edited_by'),\n",
       " (0.4958717824186498, 'ns:film.producer.films_executive_produced'),\n",
       " (0.5, 'ns:film.film.costume_design_by'),\n",
       " (0.5075168481078279, 'ns:film.actor.film/ns:film.performance.film'),\n",
       " (0.567979669631512, 'ns:film.film.executive_produced_by'),\n",
       " (0.5767097966728281,\n",
       "  'ns:film.film_costumer_designer.costume_design_for_film'),\n",
       " (0.6162790697674418, '^ns:people.person.nationality'),\n",
       " (0.6423034330011074,\n",
       "  'ns:people.person.children|ns:fictional_universe.fictional_character.children|ns:organization.organization.child/ns:organization.organization_relationship.child'),\n",
       " (0.669220945083014,\n",
       "  'ns:people.person.parents|ns:fictional_universe.fictional_character.parents|ns:organization.organization.parent/ns:organization.organization_relationship.parent'),\n",
       " (0.6913319238900634, 'ns:influence.influence_node.influenced'),\n",
       " (0.744391971664699,\n",
       "  'ns:organization.organization_founder.organizations_founded'),\n",
       " (0.7473441108545035,\n",
       "  'ns:people.person.employment_history/ns:business.employment_tenure.company'),\n",
       " (0.7511961722488039,\n",
       "  'ns:film.film_distributor.films_distributed/ns:film.film_film_distributor_relationship.film'),\n",
       " (0.7752808988764045, 'ns:film.actor.film/ns:film.performance.character'),\n",
       " (0.7897623400365631,\n",
       "  'ns:film.film.distributors/ns:film.film_film_distributor_relationship.distributor'),\n",
       " (0.7911392405063291, 'ns:film.film.sequel'),\n",
       " (0.798804780876494,\n",
       "  'ns:business.employer.employees/ns:business.employment_tenure.person'),\n",
       " (0.8005657708628006, 'ns:influence.influence_node.influenced_by'),\n",
       " (0.806282722513089, 'ns:film.film.prequel'),\n",
       " (0.8695652173913043, '^ns:people.person.gender'),\n",
       " (0.8893280632411067, 'ns:organization.organization.founders'),\n",
       " (0.9033816425120773,\n",
       "  'ns:organization.organization.companies_acquired/ns:business.acquisition.company_acquired'),\n",
       " (0.9087136929460581,\n",
       "  'ns:organization.organization.acquired_by/ns:business.acquisition.acquiring_company'),\n",
       " (0.9212730318257957, 'ns:film.film.starring/ns:film.performance.actor'),\n",
       " (0.9978378378378379, 'ns:people.person.gender'),\n",
       " (0.9986548291633037, 'ns:people.person.nationality'),\n",
       " (0.9997523219814242, 'a')]"
      ]
     },
     "execution_count": 71,
     "metadata": {},
     "output_type": "execute_result"
    }
   ],
   "source": [
    "diag = np.diag(cm)\n",
    "list(zip(np.sort(diag), (idx2rel[idx] for idx in np.argsort(diag))))"
   ]
  }
 ],
 "metadata": {
  "kernelspec": {
   "display_name": "Python 3",
   "language": "python",
   "name": "python3"
  },
  "language_info": {
   "codemirror_mode": {
    "name": "ipython",
    "version": 3
   },
   "file_extension": ".py",
   "mimetype": "text/x-python",
   "name": "python",
   "nbconvert_exporter": "python",
   "pygments_lexer": "ipython3",
   "version": "3.8.3"
  }
 },
 "nbformat": 4,
 "nbformat_minor": 4
}
