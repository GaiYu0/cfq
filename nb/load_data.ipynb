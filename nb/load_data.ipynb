{
 "cells": [
  {
   "cell_type": "code",
   "execution_count": 1,
   "metadata": {},
   "outputs": [],
   "source": [
    "import json"
   ]
  },
  {
   "cell_type": "code",
   "execution_count": 2,
   "metadata": {},
   "outputs": [],
   "source": [
    "data_dir = '/data/yu_gai/cfq'"
   ]
  },
  {
   "cell_type": "code",
   "execution_count": 3,
   "metadata": {},
   "outputs": [
    {
     "name": "stdout",
     "output_type": "stream",
     "text": [
      "CPU times: user 1min 41s, sys: 21.9 s, total: 2min 3s\n",
      "Wall time: 2min 3s\n"
     ]
    }
   ],
   "source": [
    "%time dataset = json.load(open(f'{data_dir}/dataset.json'))"
   ]
  },
  {
   "cell_type": "code",
   "execution_count": 4,
   "metadata": {},
   "outputs": [],
   "source": [
    "for i, x in enumerate(dataset):\n",
    "    x['index'] = i"
   ]
  },
  {
   "cell_type": "code",
   "execution_count": 5,
   "metadata": {},
   "outputs": [
    {
     "name": "stderr",
     "output_type": "stream",
     "text": [
      "/data/yu_gai/anaconda3/envs/cfq/lib/python3.8/site-packages/pyspark/sql/session.py:398: UserWarning: Using RDD of dict to inferSchema is deprecated. Use pyspark.sql.Row instead\n",
      "  warnings.warn(\"Using RDD of dict to inferSchema is deprecated. \"\n"
     ]
    },
    {
     "name": "stdout",
     "output_type": "stream",
     "text": [
      "CPU times: user 48.9 s, sys: 8.08 s, total: 57 s\n",
      "Wall time: 1min 4s\n"
     ]
    }
   ],
   "source": [
    "%time df = sc.parallelize(dataset).toDF().persist()"
   ]
  },
  {
   "cell_type": "code",
   "execution_count": 6,
   "metadata": {},
   "outputs": [
    {
     "data": {
      "text/plain": [
       "[\"Did  Jackie's female actor edit and produce Rad Plaid\",\n",
       " \"Did !Women Art Revolution's writer, director, editor, and star direct, produce, and write Conceiving Ada\",\n",
       " 'Did #FMV Flymen Vision employ a spouse of a character',\n",
       " \"Did 'Gog' Helen''s writer, editor, cinematographer, producer, and director marry and influence Jacques Demy\",\n",
       " \"Did 'Murder' Legendre's male actor marry Lillian Lugosi\",\n",
       " \"Did (Buried) Over the Roofs' Spanish executive producer edit Shepherdesses\",\n",
       " \"Did ...And Justice for All's Canadian director executive produce Mokhtar\",\n",
       " \"Did 1 Night in Paris' male cinematographer's Canadian spouse's spouse marry Mayte Garcia\",\n",
       " \"Did 1/3/10's cinematographer and star edit, direct, and write Nakounine, 78 RPM, and The Subject of the Picture\",\n",
       " \"Did 1/3/10's star, director, editor, cinematographer, and writer write and direct Photographic Memory\"]"
      ]
     },
     "execution_count": 6,
     "metadata": {},
     "output_type": "execute_result"
    }
   ],
   "source": [
    "df.sort('index').rdd.map(lambda r: r['question']).take(10)"
   ]
  },
  {
   "cell_type": "code",
   "execution_count": 7,
   "metadata": {},
   "outputs": [
    {
     "data": {
      "text/plain": [
       "[\"Did  Jackie's female actor edit and produce Rad Plaid\",\n",
       " \"Did !Women Art Revolution's writer, director, editor, and star direct, produce, and write Conceiving Ada\",\n",
       " 'Did #FMV Flymen Vision employ a spouse of a character',\n",
       " \"Did 'Gog' Helen''s writer, editor, cinematographer, producer, and director marry and influence Jacques Demy\",\n",
       " \"Did 'Murder' Legendre's male actor marry Lillian Lugosi\",\n",
       " \"Did (Buried) Over the Roofs' Spanish executive producer edit Shepherdesses\",\n",
       " \"Did ...And Justice for All's Canadian director executive produce Mokhtar\",\n",
       " \"Did 1 Night in Paris' male cinematographer's Canadian spouse's spouse marry Mayte Garcia\",\n",
       " \"Did 1/3/10's cinematographer and star edit, direct, and write Nakounine, 78 RPM, and The Subject of the Picture\",\n",
       " \"Did 1/3/10's star, director, editor, cinematographer, and writer write and direct Photographic Memory\"]"
      ]
     },
     "execution_count": 7,
     "metadata": {},
     "output_type": "execute_result"
    }
   ],
   "source": [
    "[x['question'] for x in dataset[:10]]"
   ]
  },
  {
   "cell_type": "code",
   "execution_count": 8,
   "metadata": {},
   "outputs": [],
   "source": [
    "df.write.parquet(f'{data_dir}/dataset.parquet', mode='overwrite')"
   ]
  }
 ],
 "metadata": {
  "kernelspec": {
   "display_name": "Python 3",
   "language": "python",
   "name": "python3"
  },
  "language_info": {
   "codemirror_mode": {
    "name": "ipython",
    "version": 3
   },
   "file_extension": ".py",
   "mimetype": "text/x-python",
   "name": "python",
   "nbconvert_exporter": "python",
   "pygments_lexer": "ipython3",
   "version": "3.8.3"
  }
 },
 "nbformat": 4,
 "nbformat_minor": 4
}
