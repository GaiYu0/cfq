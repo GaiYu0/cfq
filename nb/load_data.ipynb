{
 "cells": [
  {
   "cell_type": "code",
   "execution_count": 1,
   "metadata": {},
   "outputs": [],
   "source": [
    "import json"
   ]
  },
  {
   "cell_type": "code",
   "execution_count": 2,
   "metadata": {},
   "outputs": [
    {
     "data": {
      "text/html": [
       "\n",
       "        <div>\n",
       "            <p><b>SparkContext</b></p>\n",
       "\n",
       "            <p><a href=\"http://ip-172-31-4-27.ec2.internal:4040\">Spark UI</a></p>\n",
       "\n",
       "            <dl>\n",
       "              <dt>Version</dt>\n",
       "                <dd><code>v3.0.1</code></dd>\n",
       "              <dt>Master</dt>\n",
       "                <dd><code>local[*]</code></dd>\n",
       "              <dt>AppName</dt>\n",
       "                <dd><code>PySparkShell</code></dd>\n",
       "            </dl>\n",
       "        </div>\n",
       "        "
      ],
      "text/plain": [
       "<SparkContext master=local[*] appName=PySparkShell>"
      ]
     },
     "execution_count": 2,
     "metadata": {},
     "output_type": "execute_result"
    }
   ],
   "source": [
    "sc"
   ]
  },
  {
   "cell_type": "code",
   "execution_count": 3,
   "metadata": {},
   "outputs": [],
   "source": [
    "data_dir = '/home/ubuntu/cfq/data/cfq_original'"
   ]
  },
  {
   "cell_type": "code",
   "execution_count": 4,
   "metadata": {},
   "outputs": [
    {
     "name": "stdout",
     "output_type": "stream",
     "text": [
      "CPU times: user 1min 17s, sys: 19.4 s, total: 1min 37s\n",
      "Wall time: 1min 36s\n"
     ]
    }
   ],
   "source": [
    "%time dataset = json.load(open(f'{data_dir}/dataset.json'))"
   ]
  },
  {
   "cell_type": "code",
   "execution_count": 5,
   "metadata": {},
   "outputs": [
    {
     "data": {
      "text/plain": [
       "{(('complexityMeasures', dict),\n",
       "  ('expectedResponse', str),\n",
       "  ('expectedResponseWithMids', str),\n",
       "  ('question', str),\n",
       "  ('questionPatternModEntities', str),\n",
       "  ('questionWithBrackets', str),\n",
       "  ('questionWithMids', str),\n",
       "  ('ruleIds', list),\n",
       "  ('ruleTree', dict),\n",
       "  ('sparql', str),\n",
       "  ('sparqlPattern', str),\n",
       "  ('sparqlPatternModEntities', str))}"
      ]
     },
     "execution_count": 5,
     "metadata": {},
     "output_type": "execute_result"
    }
   ],
   "source": [
    "set(tuple((k, type(v)) for k, v in r.items()) for r in dataset)"
   ]
  },
  {
   "cell_type": "code",
   "execution_count": 10,
   "metadata": {},
   "outputs": [],
   "source": [
    "for i, r in enumerate(dataset):  # TODO: drop dicts\n",
    "    r['index'] = i\n",
    "    r['questionTemplate'] = r['complexityMeasures']['questionTemplate']"
   ]
  },
  {
   "cell_type": "code",
   "execution_count": 11,
   "metadata": {},
   "outputs": [
    {
     "name": "stdout",
     "output_type": "stream",
     "text": [
      "CPU times: user 42.7 s, sys: 8.67 s, total: 51.3 s\n",
      "Wall time: 55.1 s\n"
     ]
    }
   ],
   "source": [
    "%time df = sc.parallelize(dataset).toDF().persist()"
   ]
  },
  {
   "cell_type": "code",
   "execution_count": 12,
   "metadata": {},
   "outputs": [
    {
     "data": {
      "text/plain": [
       "[\"Did  Jackie's female actor edit and produce Rad Plaid\",\n",
       " \"Did !Women Art Revolution's writer, director, editor, and star direct, produce, and write Conceiving Ada\",\n",
       " 'Did #FMV Flymen Vision employ a spouse of a character',\n",
       " \"Did 'Gog' Helen''s writer, editor, cinematographer, producer, and director marry and influence Jacques Demy\",\n",
       " \"Did 'Murder' Legendre's male actor marry Lillian Lugosi\",\n",
       " \"Did (Buried) Over the Roofs' Spanish executive producer edit Shepherdesses\",\n",
       " \"Did ...And Justice for All's Canadian director executive produce Mokhtar\",\n",
       " \"Did 1 Night in Paris' male cinematographer's Canadian spouse's spouse marry Mayte Garcia\",\n",
       " \"Did 1/3/10's cinematographer and star edit, direct, and write Nakounine, 78 RPM, and The Subject of the Picture\",\n",
       " \"Did 1/3/10's star, director, editor, cinematographer, and writer write and direct Photographic Memory\"]"
      ]
     },
     "execution_count": 12,
     "metadata": {},
     "output_type": "execute_result"
    }
   ],
   "source": [
    "df.sort('index').rdd.map(lambda r: r['question']).take(10)"
   ]
  },
  {
   "cell_type": "code",
   "execution_count": 13,
   "metadata": {},
   "outputs": [
    {
     "data": {
      "text/plain": [
       "[\"Did  Jackie's female actor edit and produce Rad Plaid\",\n",
       " \"Did !Women Art Revolution's writer, director, editor, and star direct, produce, and write Conceiving Ada\",\n",
       " 'Did #FMV Flymen Vision employ a spouse of a character',\n",
       " \"Did 'Gog' Helen''s writer, editor, cinematographer, producer, and director marry and influence Jacques Demy\",\n",
       " \"Did 'Murder' Legendre's male actor marry Lillian Lugosi\",\n",
       " \"Did (Buried) Over the Roofs' Spanish executive producer edit Shepherdesses\",\n",
       " \"Did ...And Justice for All's Canadian director executive produce Mokhtar\",\n",
       " \"Did 1 Night in Paris' male cinematographer's Canadian spouse's spouse marry Mayte Garcia\",\n",
       " \"Did 1/3/10's cinematographer and star edit, direct, and write Nakounine, 78 RPM, and The Subject of the Picture\",\n",
       " \"Did 1/3/10's star, director, editor, cinematographer, and writer write and direct Photographic Memory\"]"
      ]
     },
     "execution_count": 13,
     "metadata": {},
     "output_type": "execute_result"
    }
   ],
   "source": [
    "[r['question'] for r in dataset[:10]]"
   ]
  },
  {
   "cell_type": "code",
   "execution_count": 14,
   "metadata": {},
   "outputs": [],
   "source": [
    "df.write.parquet(f'{data_dir}/dataset.parquet', mode='overwrite')"
   ]
  }
 ],
 "metadata": {
  "kernelspec": {
   "display_name": "Python 3",
   "language": "python",
   "name": "python3"
  },
  "language_info": {
   "codemirror_mode": {
    "name": "ipython",
    "version": 3
   },
   "file_extension": ".py",
   "mimetype": "text/x-python",
   "name": "python",
   "nbconvert_exporter": "python",
   "pygments_lexer": "ipython3",
   "version": "3.7.9"
  }
 },
 "nbformat": 4,
 "nbformat_minor": 4
}
