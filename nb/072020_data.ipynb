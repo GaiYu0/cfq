{
 "cells": [
  {
   "cell_type": "code",
   "execution_count": 1,
   "metadata": {},
   "outputs": [],
   "source": [
    "from collections import defaultdict\n",
    "import json\n",
    "from operator import *\n",
    "import pickle\n",
    "import re\n",
    "\n",
    "import matplotlib.pylab as pl\n",
    "import numpy as np\n",
    "from scipy.sparse import csr_matrix"
   ]
  },
  {
   "cell_type": "code",
   "execution_count": 2,
   "metadata": {},
   "outputs": [],
   "source": [
    "input_dir = '/data/yu_gai/cfq'\n",
    "output_dir = '/work/yu_gai/cfq'"
   ]
  },
  {
   "cell_type": "markdown",
   "metadata": {},
   "source": [
    "# The CFQ dataset"
   ]
  },
  {
   "cell_type": "code",
   "execution_count": 3,
   "metadata": {},
   "outputs": [],
   "source": [
    "df = sqlCtx.read.parquet(f'{input_dir}/dataset.parquet').sort('index').persist()"
   ]
  },
  {
   "cell_type": "markdown",
   "metadata": {},
   "source": [
    "## Some samples"
   ]
  },
  {
   "cell_type": "code",
   "execution_count": 4,
   "metadata": {},
   "outputs": [
    {
     "data": {
      "text/plain": [
       "[\"Did  Jackie's female actor edit and produce Rad Plaid\",\n",
       " \"Did !Women Art Revolution's writer, director, editor, and star direct, produce, and write Conceiving Ada\",\n",
       " 'Did #FMV Flymen Vision employ a spouse of a character',\n",
       " \"Did 'Gog' Helen''s writer, editor, cinematographer, producer, and director marry and influence Jacques Demy\",\n",
       " \"Did 'Murder' Legendre's male actor marry Lillian Lugosi\",\n",
       " \"Did (Buried) Over the Roofs' Spanish executive producer edit Shepherdesses\",\n",
       " \"Did ...And Justice for All's Canadian director executive produce Mokhtar\",\n",
       " \"Did 1 Night in Paris' male cinematographer's Canadian spouse's spouse marry Mayte Garcia\",\n",
       " \"Did 1/3/10's cinematographer and star edit, direct, and write Nakounine, 78 RPM, and The Subject of the Picture\",\n",
       " \"Did 1/3/10's star, director, editor, cinematographer, and writer write and direct Photographic Memory\"]"
      ]
     },
     "execution_count": 4,
     "metadata": {},
     "output_type": "execute_result"
    }
   ],
   "source": [
    "df.rdd.map(lambda r: r['question']).take(10)"
   ]
  },
  {
   "cell_type": "code",
   "execution_count": 5,
   "metadata": {},
   "outputs": [
    {
     "name": "stdout",
     "output_type": "stream",
     "text": [
      "Did M1 's female actor edit and produce M0\n",
      "SELECT count(*) WHERE {\n",
      "?x0 ns:film.actor.film/ns:film.performance.character M1 .\n",
      "?x0 ns:film.editor.film M0 .\n",
      "?x0 ns:film.producer.film|ns:film.production_company.films M0 .\n",
      "?x0 ns:people.person.gender ns:m.02zsn\n",
      "}\n",
      "\n",
      "Did M0 's writer , director , editor , and star direct , produce , and write M1\n",
      "SELECT count(*) WHERE {\n",
      "?x0 ns:film.actor.film/ns:film.performance.film M0 .\n",
      "?x0 ns:film.director.film M0 .\n",
      "?x0 ns:film.director.film M1 .\n",
      "?x0 ns:film.editor.film M0 .\n",
      "?x0 ns:film.producer.film|ns:film.production_company.films M1 .\n",
      "?x0 ns:film.writer.film M0 .\n",
      "?x0 ns:film.writer.film M1\n",
      "}\n",
      "\n",
      "Did M1 employ a spouse of a character\n",
      "SELECT count(*) WHERE {\n",
      "?x0 ns:people.person.spouse_s/ns:people.marriage.spouse|ns:fictional_universe.fictional_character.married_to/ns:fictional_universe.marriage_of_fictional_characters.spouses ?x1 .\n",
      "?x1 a ns:fictional_universe.fictional_character .\n",
      "FILTER ( ?x0 != ?x1 ) .\n",
      "M1 ns:business.employer.employees/ns:business.employment_tenure.person ?x0\n",
      "}\n",
      "\n",
      "Did M0 's writer , editor , cinematographer , producer , and director marry and influence M1\n",
      "SELECT count(*) WHERE {\n",
      "?x0 ns:film.cinematographer.film M0 .\n",
      "?x0 ns:film.director.film M0 .\n",
      "?x0 ns:film.editor.film M0 .\n",
      "?x0 ns:film.producer.film|ns:film.production_company.films M0 .\n",
      "?x0 ns:film.writer.film M0 .\n",
      "?x0 ns:influence.influence_node.influenced M1 .\n",
      "?x0 ns:people.person.spouse_s/ns:people.marriage.spouse|ns:fictional_universe.fictional_character.married_to/ns:fictional_universe.marriage_of_fictional_characters.spouses M1 .\n",
      "FILTER ( ?x0 != M1 )\n",
      "}\n",
      "\n",
      "Did M0 's male actor marry M2\n",
      "SELECT count(*) WHERE {\n",
      "?x0 ns:film.actor.film/ns:film.performance.character M0 .\n",
      "?x0 ns:people.person.gender ns:m.05zppz .\n",
      "?x0 ns:people.person.spouse_s/ns:people.marriage.spouse|ns:fictional_universe.fictional_character.married_to/ns:fictional_universe.marriage_of_fictional_characters.spouses M2 .\n",
      "FILTER ( ?x0 != M2 )\n",
      "}\n"
     ]
    }
   ],
   "source": [
    "n = 5\n",
    "rs = df.rdd.map(lambda r: [r['questionPatternModEntities'], r['sparqlPatternModEntities']]).take(n)\n",
    "for i, [question, query] in enumerate(rs):\n",
    "    print(question)\n",
    "    print(query)\n",
    "    if i < n - 1:\n",
    "        print()"
   ]
  },
  {
   "cell_type": "markdown",
   "metadata": {},
   "source": [
    "## SPARQL syntax"
   ]
  },
  {
   "cell_type": "code",
   "execution_count": 6,
   "metadata": {},
   "outputs": [
    {
     "data": {
      "text/plain": [
       "['WHERE', 'SELECT', 'FILTER', 'DISTINCT']"
      ]
     },
     "execution_count": 6,
     "metadata": {},
     "output_type": "execute_result"
    }
   ],
   "source": [
    "p = re.compile(r'[A-Z]+')\n",
    "df.rdd.flatMap(lambda r: re.findall(p, r['sparql'])).distinct().collect()"
   ]
  },
  {
   "cell_type": "code",
   "execution_count": 7,
   "metadata": {},
   "outputs": [
    {
     "data": {
      "text/plain": [
       "(['SELECT DISTINCT ?x0 WHERE {', 'SELECT count(*) WHERE {'], ['}'])"
      ]
     },
     "execution_count": 7,
     "metadata": {},
     "output_type": "execute_result"
    }
   ],
   "source": [
    "rdd = df.rdd.map(lambda r: r['sparqlPatternModEntities'].split('\\n')).cache()\n",
    "rdd.map(lambda r: r[0]).distinct().collect(), rdd.map(lambda r: r[-1]).distinct().collect()  "
   ]
  },
  {
   "cell_type": "markdown",
   "metadata": {},
   "source": [
    "## Interrogatives"
   ]
  },
  {
   "cell_type": "code",
   "execution_count": 8,
   "metadata": {},
   "outputs": [],
   "source": [
    "interrogatives = df.rdd.map(lambda r: (r['questionPatternModEntities'].split(' ')[0], r['sparqlPatternModEntities'].split('\\n')[0])).cache()"
   ]
  },
  {
   "cell_type": "code",
   "execution_count": 9,
   "metadata": {},
   "outputs": [
    {
     "data": {
      "text/plain": [
       "[('Were', 'SELECT count(*) WHERE {'),\n",
       " ('Who', 'SELECT DISTINCT ?x0 WHERE {'),\n",
       " ('Did', 'SELECT count(*) WHERE {'),\n",
       " ('Was', 'SELECT count(*) WHERE {'),\n",
       " ('What', 'SELECT DISTINCT ?x0 WHERE {'),\n",
       " ('Which', 'SELECT DISTINCT ?x0 WHERE {')]"
      ]
     },
     "execution_count": 9,
     "metadata": {},
     "output_type": "execute_result"
    }
   ],
   "source": [
    "interrogatives.distinct().collect()"
   ]
  },
  {
   "cell_type": "code",
   "execution_count": 10,
   "metadata": {},
   "outputs": [
    {
     "data": {
      "text/plain": [
       "defaultdict(int,\n",
       "            {'Did': 43051,\n",
       "             'Was': 68063,\n",
       "             'Were': 19457,\n",
       "             'What': 56616,\n",
       "             'Which': 26466,\n",
       "             'Who': 25704})"
      ]
     },
     "execution_count": 10,
     "metadata": {},
     "output_type": "execute_result"
    }
   ],
   "source": [
    "interrogatives.map(lambda r: r[0]).countByValue()"
   ]
  },
  {
   "cell_type": "markdown",
   "metadata": {},
   "source": [
    "## SPARQL TRIPLES"
   ]
  },
  {
   "cell_type": "markdown",
   "metadata": {},
   "source": [
    "### Triple syntax"
   ]
  },
  {
   "cell_type": "code",
   "execution_count": 11,
   "metadata": {},
   "outputs": [],
   "source": [
    "triples = rdd.flatMap(lambda r: [l for l in r[1 : -1] if 'FILTER' not in l]).distinct()\n",
    "p = re.compile(r'^([^ ]+) ([^ ]+) ([^ ]+)( .)?$')\n",
    "triples = triples.map(lambda r: re.findall(p, r)).cache()\n",
    "assert triples.map(lambda r: len(r) == 1).reduce(and_)\n",
    "triples = triples.map(lambda r: r[0])\n",
    "assert triples.map(lambda r: r[-1] in ['', ' .']).reduce(and_)  # conjunction only"
   ]
  },
  {
   "cell_type": "markdown",
   "metadata": {},
   "source": [
    "### Subject"
   ]
  },
  {
   "cell_type": "code",
   "execution_count": 12,
   "metadata": {},
   "outputs": [
    {
     "data": {
      "text/plain": [
       "['?x0',\n",
       " '?x1',\n",
       " '?x2',\n",
       " '?x3',\n",
       " '?x4',\n",
       " '?x5',\n",
       " 'M0',\n",
       " 'M1',\n",
       " 'M2',\n",
       " 'M3',\n",
       " 'M4',\n",
       " 'M5',\n",
       " 'M6',\n",
       " 'M7',\n",
       " 'M8',\n",
       " 'M9']"
      ]
     },
     "execution_count": 12,
     "metadata": {},
     "output_type": "execute_result"
    }
   ],
   "source": [
    "sorted(triples.map(lambda r: r[0]).distinct().collect())"
   ]
  },
  {
   "cell_type": "markdown",
   "metadata": {},
   "source": [
    "### Relation"
   ]
  },
  {
   "cell_type": "code",
   "execution_count": 13,
   "metadata": {},
   "outputs": [
    {
     "data": {
      "text/plain": [
       "['^ns:people.person.gender',\n",
       " '^ns:people.person.nationality',\n",
       " 'a',\n",
       " 'ns:business.employer.employees/ns:business.employment_tenure.person',\n",
       " 'ns:film.actor.film/ns:film.performance.character',\n",
       " 'ns:film.actor.film/ns:film.performance.film',\n",
       " 'ns:film.cinematographer.film',\n",
       " 'ns:film.director.film',\n",
       " 'ns:film.editor.film',\n",
       " 'ns:film.film.cinematography',\n",
       " 'ns:film.film.costume_design_by',\n",
       " 'ns:film.film.directed_by',\n",
       " 'ns:film.film.distributors/ns:film.film_film_distributor_relationship.distributor',\n",
       " 'ns:film.film.edited_by',\n",
       " 'ns:film.film.executive_produced_by',\n",
       " 'ns:film.film.film_art_direction_by',\n",
       " 'ns:film.film.prequel',\n",
       " 'ns:film.film.produced_by|ns:film.film.production_companies',\n",
       " 'ns:film.film.sequel',\n",
       " 'ns:film.film.starring/ns:film.performance.actor',\n",
       " 'ns:film.film.written_by',\n",
       " 'ns:film.film_art_director.films_art_directed',\n",
       " 'ns:film.film_costumer_designer.costume_design_for_film',\n",
       " 'ns:film.film_distributor.films_distributed/ns:film.film_film_distributor_relationship.film',\n",
       " 'ns:film.producer.films_executive_produced',\n",
       " 'ns:film.producer.film|ns:film.production_company.films',\n",
       " 'ns:film.writer.film',\n",
       " 'ns:influence.influence_node.influenced',\n",
       " 'ns:influence.influence_node.influenced_by',\n",
       " 'ns:organization.organization.acquired_by/ns:business.acquisition.acquiring_company',\n",
       " 'ns:organization.organization.companies_acquired/ns:business.acquisition.company_acquired',\n",
       " 'ns:organization.organization.founders',\n",
       " 'ns:organization.organization_founder.organizations_founded',\n",
       " 'ns:people.person.children|ns:fictional_universe.fictional_character.children|ns:organization.organization.child/ns:organization.organization_relationship.child',\n",
       " 'ns:people.person.employment_history/ns:business.employment_tenure.company',\n",
       " 'ns:people.person.gender',\n",
       " 'ns:people.person.nationality',\n",
       " 'ns:people.person.parents|ns:fictional_universe.fictional_character.parents|ns:organization.organization.parent/ns:organization.organization_relationship.parent',\n",
       " 'ns:people.person.sibling_s/ns:people.sibling_relationship.sibling|ns:fictional_universe.fictional_character.siblings/ns:fictional_universe.sibling_relationship_of_fictional_characters.siblings',\n",
       " 'ns:people.person.spouse_s/ns:people.marriage.spouse|ns:fictional_universe.fictional_character.married_to/ns:fictional_universe.marriage_of_fictional_characters.spouses']"
      ]
     },
     "execution_count": 13,
     "metadata": {},
     "output_type": "execute_result"
    }
   ],
   "source": [
    "sorted(triples.map(lambda r: r[1]).distinct().collect())"
   ]
  },
  {
   "cell_type": "markdown",
   "metadata": {},
   "source": [
    "### Object"
   ]
  },
  {
   "cell_type": "code",
   "execution_count": 14,
   "metadata": {},
   "outputs": [
    {
     "data": {
      "text/plain": [
       "['?x0',\n",
       " '?x1',\n",
       " '?x2',\n",
       " '?x3',\n",
       " '?x4',\n",
       " '?x5',\n",
       " 'M0',\n",
       " 'M1',\n",
       " 'M2',\n",
       " 'M3',\n",
       " 'M4',\n",
       " 'M5',\n",
       " 'M6',\n",
       " 'M7',\n",
       " 'M8',\n",
       " 'M9',\n",
       " 'ns:business.employer',\n",
       " 'ns:fictional_universe.fictional_character',\n",
       " 'ns:film.actor',\n",
       " 'ns:film.cinematographer',\n",
       " 'ns:film.director',\n",
       " 'ns:film.editor',\n",
       " 'ns:film.film',\n",
       " 'ns:film.film_art_director',\n",
       " 'ns:film.film_costumer_designer',\n",
       " 'ns:film.film_distributor',\n",
       " 'ns:film.producer',\n",
       " 'ns:film.production_company',\n",
       " 'ns:film.writer',\n",
       " 'ns:m.02zsn',\n",
       " 'ns:m.0345h',\n",
       " 'ns:m.03_3d',\n",
       " 'ns:m.03rjj',\n",
       " 'ns:m.059j2',\n",
       " 'ns:m.05zppz',\n",
       " 'ns:m.06mkj',\n",
       " 'ns:m.07ssc',\n",
       " 'ns:m.09c7w0',\n",
       " 'ns:m.0b90_r',\n",
       " 'ns:m.0d05w3',\n",
       " 'ns:m.0d060g',\n",
       " 'ns:m.0d0vqn',\n",
       " 'ns:m.0f8l9c',\n",
       " 'ns:people.person']"
      ]
     },
     "execution_count": 14,
     "metadata": {},
     "output_type": "execute_result"
    }
   ],
   "source": [
    "sorted(triples.map(lambda r: r[2]).distinct().collect())"
   ]
  },
  {
   "cell_type": "code",
   "execution_count": 15,
   "metadata": {},
   "outputs": [
    {
     "data": {
      "text/plain": [
       "['?x0',\n",
       " '?x1',\n",
       " '?x2',\n",
       " '?x3',\n",
       " '?x4',\n",
       " '?x5',\n",
       " 'M0',\n",
       " 'M1',\n",
       " 'M2',\n",
       " 'M3',\n",
       " 'M4',\n",
       " 'M5',\n",
       " 'M6',\n",
       " 'M7',\n",
       " 'M8',\n",
       " 'M9',\n",
       " 'ns:m.02zsn',\n",
       " 'ns:m.0345h',\n",
       " 'ns:m.03_3d',\n",
       " 'ns:m.03rjj',\n",
       " 'ns:m.059j2',\n",
       " 'ns:m.05zppz',\n",
       " 'ns:m.06mkj',\n",
       " 'ns:m.07ssc',\n",
       " 'ns:m.09c7w0',\n",
       " 'ns:m.0b90_r',\n",
       " 'ns:m.0d05w3',\n",
       " 'ns:m.0d060g',\n",
       " 'ns:m.0d0vqn',\n",
       " 'ns:m.0f8l9c']"
      ]
     },
     "execution_count": 15,
     "metadata": {},
     "output_type": "execute_result"
    }
   ],
   "source": [
    "sorted(triples.filter(lambda r: r[1] != 'a').map(lambda r: r[2]).distinct().collect())"
   ]
  },
  {
   "cell_type": "code",
   "execution_count": 16,
   "metadata": {},
   "outputs": [
    {
     "data": {
      "text/plain": [
       "[('M1', 'ns:film.film.starring/ns:film.performance.actor', 'M5', '')]"
      ]
     },
     "execution_count": 16,
     "metadata": {},
     "output_type": "execute_result"
    }
   ],
   "source": [
    "triples.take(1)"
   ]
  },
  {
   "cell_type": "code",
   "execution_count": 17,
   "metadata": {},
   "outputs": [
    {
     "data": {
      "text/plain": [
       "['ns:people.person.gender', 'ns:people.person.nationality']"
      ]
     },
     "execution_count": 17,
     "metadata": {},
     "output_type": "execute_result"
    }
   ],
   "source": [
    "triples.filter(lambda r: r[1] != 'a' and r[2].startswith('ns')).map(lambda r: r[1]).distinct().collect()"
   ]
  },
  {
   "cell_type": "markdown",
   "metadata": {},
   "source": [
    "### \"Instance of\" triples"
   ]
  },
  {
   "cell_type": "code",
   "execution_count": 18,
   "metadata": {},
   "outputs": [],
   "source": [
    "is_ = triples.filter(lambda r: r[1] == 'a').distinct()"
   ]
  },
  {
   "cell_type": "markdown",
   "metadata": {},
   "source": [
    "#### Entities"
   ]
  },
  {
   "cell_type": "code",
   "execution_count": 19,
   "metadata": {},
   "outputs": [
    {
     "data": {
      "text/plain": [
       "['?x0',\n",
       " '?x1',\n",
       " '?x2',\n",
       " '?x3',\n",
       " '?x4',\n",
       " '?x5',\n",
       " 'M0',\n",
       " 'M1',\n",
       " 'M2',\n",
       " 'M3',\n",
       " 'M4',\n",
       " 'M5',\n",
       " 'M6']"
      ]
     },
     "execution_count": 19,
     "metadata": {},
     "output_type": "execute_result"
    }
   ],
   "source": [
    "sorted(is_.map(lambda r: r[0]).distinct().collect())"
   ]
  },
  {
   "cell_type": "markdown",
   "metadata": {},
   "source": [
    "#### Concepts"
   ]
  },
  {
   "cell_type": "code",
   "execution_count": 20,
   "metadata": {},
   "outputs": [
    {
     "data": {
      "text/plain": [
       "['ns:business.employer',\n",
       " 'ns:fictional_universe.fictional_character',\n",
       " 'ns:film.actor',\n",
       " 'ns:film.cinematographer',\n",
       " 'ns:film.director',\n",
       " 'ns:film.editor',\n",
       " 'ns:film.film',\n",
       " 'ns:film.film_art_director',\n",
       " 'ns:film.film_costumer_designer',\n",
       " 'ns:film.film_distributor',\n",
       " 'ns:film.producer',\n",
       " 'ns:film.production_company',\n",
       " 'ns:film.writer',\n",
       " 'ns:people.person']"
      ]
     },
     "execution_count": 20,
     "metadata": {},
     "output_type": "execute_result"
    }
   ],
   "source": [
    "sorted(is_.map(lambda r: r[2]).distinct().collect())"
   ]
  },
  {
   "cell_type": "markdown",
   "metadata": {},
   "source": [
    "## SPARQL Filters"
   ]
  },
  {
   "cell_type": "code",
   "execution_count": 21,
   "metadata": {},
   "outputs": [],
   "source": [
    "filters = rdd.flatMap(lambda r: [l for l in r if 'FILTER' in l]).distinct()\n",
    "p = re.compile(r'^FILTER \\( ([^ ]+) != ([^ ]+) \\)( .)?$')  # not equal only\n",
    "xs = filters.map(lambda r: re.findall(p, r)).cache()\n",
    "assert xs.map(lambda r: len(r) == 1).reduce(and_)\n",
    "assert xs.map(lambda r: r[0][-1] in ['', ' .']).reduce(and_)"
   ]
  },
  {
   "cell_type": "markdown",
   "metadata": {},
   "source": [
    "### LHS"
   ]
  },
  {
   "cell_type": "code",
   "execution_count": 22,
   "metadata": {},
   "outputs": [
    {
     "data": {
      "text/plain": [
       "['?x0',\n",
       " '?x1',\n",
       " '?x2',\n",
       " '?x3',\n",
       " '?x4',\n",
       " 'M0',\n",
       " 'M1',\n",
       " 'M2',\n",
       " 'M3',\n",
       " 'M4',\n",
       " 'M5',\n",
       " 'M6',\n",
       " 'M7']"
      ]
     },
     "execution_count": 22,
     "metadata": {},
     "output_type": "execute_result"
    }
   ],
   "source": [
    "sorted(xs.map(lambda r: r[0][0]).distinct().collect())"
   ]
  },
  {
   "cell_type": "markdown",
   "metadata": {},
   "source": [
    "### RHS"
   ]
  },
  {
   "cell_type": "code",
   "execution_count": 23,
   "metadata": {},
   "outputs": [
    {
     "data": {
      "text/plain": [
       "['?x0',\n",
       " '?x1',\n",
       " '?x2',\n",
       " '?x3',\n",
       " '?x4',\n",
       " '?x5',\n",
       " 'M0',\n",
       " 'M1',\n",
       " 'M2',\n",
       " 'M3',\n",
       " 'M4',\n",
       " 'M5',\n",
       " 'M6',\n",
       " 'M7',\n",
       " 'M8']"
      ]
     },
     "execution_count": 23,
     "metadata": {},
     "output_type": "execute_result"
    }
   ],
   "source": [
    "sorted(xs.map(lambda r: r[0][1]).distinct().collect())"
   ]
  },
  {
   "cell_type": "markdown",
   "metadata": {},
   "source": [
    "## Preprocessing"
   ]
  },
  {
   "cell_type": "code",
   "execution_count": 24,
   "metadata": {},
   "outputs": [
    {
     "name": "stdout",
     "output_type": "stream",
     "text": [
      "mcd1 95743 11968 11968 239357\n",
      "mcd2 95743 11968 11968 239357\n",
      "mcd3 95743 11968 11968 239357\n",
      "query_complexity_split 100654 9512 9512 239357\n",
      "query_pattern_split 94600 12489 12589 239357\n",
      "question_complexity_split 98999 10339 10340 239357\n",
      "question_pattern_split 95654 12115 11909 239357\n",
      "random_split 95744 11967 11967 239357\n"
     ]
    }
   ],
   "source": [
    "split_ids = !ls {input_dir}/splits | grep json\n",
    "for split_id in [s.replace('.json', '') for s in split_ids]:\n",
    "    split = json.load(open(f'{input_dir}/splits/{split_id}.json'))\n",
    "    np.savez(f'{output_dir}/splits/{split_id}', **{k : np.array(v) for k, v in split.items()})\n",
    "    print(split_id, len(split['trainIdxs']), len(split['devIdxs']), len(split['testIdxs']), df.count())"
   ]
  },
  {
   "cell_type": "code",
   "execution_count": 25,
   "metadata": {},
   "outputs": [
    {
     "data": {
      "text/plain": [
       "True"
      ]
     },
     "execution_count": 25,
     "metadata": {},
     "output_type": "execute_result"
    }
   ],
   "source": [
    "p = re.compile(r\"^([A-Za-z0-9,']+[ ]?)+$\")\n",
    "df.rdd.map(lambda r: re.match(p, r['questionPatternModEntities']).string).zip(df.rdd.map(lambda r: r['questionPatternModEntities'])).map(lambda r: r[0] == r[1]).reduce(and_)"
   ]
  },
  {
   "cell_type": "code",
   "execution_count": 26,
   "metadata": {},
   "outputs": [],
   "source": [
    "d = {}"
   ]
  },
  {
   "cell_type": "code",
   "execution_count": 27,
   "metadata": {},
   "outputs": [],
   "source": [
    "get = lambda rdd, i: rdd.map(lambda r: r[i])\n",
    "collect = lambda rdd: np.array(rdd.collect())\n",
    "fcollect = lambda rdd: np.array(rdd.flatMap(lambda r: r).collect())"
   ]
  },
  {
   "cell_type": "code",
   "execution_count": 28,
   "metadata": {},
   "outputs": [],
   "source": [
    "SEP = '[SEP]'\n",
    "PAD = '[PAD]'\n",
    "def mapper(r):\n",
    "    toks = r['questionPatternModEntities'].split(' ')\n",
    "    entities = sorted(set(re.findall(r'M[0-0]', r['questionPatternModEntities'])))\n",
    "    variables = sorted(set(re.findall(r'\\?x[0-9]', r['sparqlPatternModEntities'])))\n",
    "    concepts = []\n",
    "    for line in r['sparqlPatternModEntities'].split('\\n')[1 : -1]:\n",
    "        if 'FILTER' not in line:\n",
    "            [[concept, *_]] = re.findall(r'^[^ ]+ [^ ]+ ([^ ]+)( .)?$', line)\n",
    "            if concept.startswith('ns:'):\n",
    "                concepts.append(concept)\n",
    "    concepts = sorted(set(concepts))\n",
    "    seq = toks + [SEP] + concepts + [SEP] + variables\n",
    "    isconcept = len(toks) * [False] + len(concepts) * [True] + len(variables) * [False]\n",
    "    isvariable = len(toks) * [False] + len(concepts) * [False] + len(variables) * [True]\n",
    "    return seq, isconcept, isvariable\n",
    "\n",
    "rdd = df.rdd.map(mapper).cache()\n",
    "seq_rdd, isconcept_rdd, isvariable_rdd = get(rdd, 0).cache(), get(rdd, 1), get(rdd, 2)\n",
    "idx2tok = seq_rdd.flatMap(lambda r: r).distinct().collect() + [PAD]\n",
    "tok2idx = dict(map(reversed, enumerate(idx2tok)))\n",
    "\n",
    "d['n_tok'] = collect(seq_rdd.map(len))\n",
    "d['seq'] = fcollect(seq_rdd.map(lambda r: [tok2idx[tok] for tok in r]))\n",
    "d['isconcept'], d['isvariable'] = fcollect(isconcept_rdd), fcollect(isvariable_rdd)"
   ]
  },
  {
   "cell_type": "code",
   "execution_count": 29,
   "metadata": {},
   "outputs": [],
   "source": [
    "entities = sorted(tok for tok in idx2tok if re.match(r'^M[0-9]$', tok))\n",
    "concepts = sorted(tok for tok in idx2tok if tok.startswith('ns:'))\n",
    "variables = sorted(tok for tok in idx2tok if re.match(r'^\\?x[0-9]$', tok))\n",
    "sp_toks = sc.broadcast(set(entities + concepts + variables))\n",
    "def mapper(r):\n",
    "    d = defaultdict(list)\n",
    "    for i, tok in enumerate(r):\n",
    "        if tok in sp_toks.value:\n",
    "            d[tok].append(i)\n",
    "\n",
    "    n = len(d)\n",
    "    tok = [tok2idx[tok] for tok in sorted(d)]\n",
    "    n_idx = [len(d[k]) for k in sorted(d)]\n",
    "    idx = sum((d[k] for k in sorted(d)), [])\n",
    "\n",
    "    return n, tok, n_idx, idx\n",
    "\n",
    "rdd = seq_rdd.map(mapper).cache()\n",
    "d['n'] = collect(get(rdd, 0))\n",
    "d['tok'] = fcollect(get(rdd, 1))\n",
    "d['n_idx'] = fcollect(get(rdd, 2))\n",
    "d['idx'] = fcollect(get(rdd, 3))"
   ]
  },
  {
   "cell_type": "code",
   "execution_count": 30,
   "metadata": {},
   "outputs": [],
   "source": [
    "def mapper(r):\n",
    "    src, rel, dst = [], [], []\n",
    "    for line in r['sparqlPatternModEntities'].split('\\n')[1 : -1]:\n",
    "        if 'FILTER' in line:\n",
    "            [[src_, dst_, *_]] = re.findall(r'^FILTER \\( ([^ ]+) != ([^ ]+) \\)( .)?$', line)\n",
    "            src.append(src_)\n",
    "            rel.append('!=')\n",
    "            dst.append(dst_)\n",
    "        else:\n",
    "            [[src_, rel_, dst_, *_]] = re.findall(r'^([^ ]+) ([^ ]+) ([^ ]+)( .)?$', line)\n",
    "            src.append(src_)\n",
    "            rel.append(rel_)\n",
    "            dst.append(dst_)\n",
    "\n",
    "    u, inv = np.unique(src + dst, return_inverse=True)\n",
    "    src, dst = np.split(np.arange(len(u))[inv], 2)\n",
    "    return src, rel, dst\n",
    "\n",
    "rdd = df.rdd.map(mapper).cache()\n",
    "d['src'], d['dst'] = fcollect(get(rdd, 0)), fcollect(get(rdd, 2))\n",
    "rel_rdd = get(rdd, 1).cache()\n",
    "d['m'] = collect(rel_rdd.map(len))\n",
    "rel_rdd = rel_rdd.flatMap(lambda r: r).cache()\n",
    "idx2rel = sorted(rel_rdd.distinct().collect())\n",
    "rel2idx = {rel : idx for idx, rel in enumerate(idx2rel)}\n",
    "d['rel'] = collect(rel_rdd.map(lambda r: rel2idx[r]))"
   ]
  },
  {
   "cell_type": "code",
   "execution_count": 31,
   "metadata": {},
   "outputs": [],
   "source": [
    "pickle.dump([idx2tok, tok2idx], open(f'{output_dir}/tok-vocab.pickle', 'wb'))\n",
    "pickle.dump([idx2rel, rel2idx], open(f'{output_dir}/rel-vocab.pickle', 'wb'))\n",
    "np.savez(f'{output_dir}/data', **d)"
   ]
  },
  {
   "cell_type": "markdown",
   "metadata": {},
   "source": [
    "### Maximum multiplicity"
   ]
  },
  {
   "cell_type": "code",
   "execution_count": 32,
   "metadata": {},
   "outputs": [
    {
     "data": {
      "text/plain": [
       "9"
      ]
     },
     "execution_count": 32,
     "metadata": {},
     "output_type": "execute_result"
    }
   ],
   "source": [
    "def mapper(r):\n",
    "    src, _, dst = r\n",
    "    _, c = np.unique(np.vstack([src, dst]), return_counts=True, axis=1)\n",
    "    return c.max()\n",
    "\n",
    "rdd.map(mapper).reduce(max)"
   ]
  },
  {
   "cell_type": "markdown",
   "metadata": {},
   "source": [
    "## Variable prediction"
   ]
  },
  {
   "cell_type": "code",
   "execution_count": 33,
   "metadata": {},
   "outputs": [],
   "source": [
    "d = {}\n",
    "tok_rdd = df.rdd.map(lambda r: [tok2idx[tok] for tok in r['questionPatternModEntities'].split(' ')])\n",
    "d['seq'] = fcollect(tok_rdd)\n",
    "d['n_tok'] = collect(tok_rdd.map(len))\n",
    "d['n_var'] = collect(df.rdd.map(lambda r: len(set(re.findall(r'\\?x[0-9]', r['sparqlPatternModEntities'])))))\n",
    "np.savez(f'{output_dir}/nvar', **d)"
   ]
  },
  {
   "cell_type": "markdown",
   "metadata": {},
   "source": [
    "## Concept prediction"
   ]
  },
  {
   "cell_type": "code",
   "execution_count": 34,
   "metadata": {},
   "outputs": [],
   "source": [
    "def mapper(r):\n",
    "    concepts = []\n",
    "    for line in r['sparqlPatternModEntities'].split('\\n')[1 : -1]:\n",
    "        if 'FILTER' not in line:\n",
    "            [[concept, *_]] = re.findall(r'^[^ ]+ [^ ]+ ([^ ]+)( .)?$', line)\n",
    "            if concept.startswith('ns:'):\n",
    "                concepts.append(concept)\n",
    "    return set(concepts)"
   ]
  },
  {
   "cell_type": "code",
   "execution_count": 35,
   "metadata": {},
   "outputs": [],
   "source": [
    "d = {}\n",
    "tok_rdd = df.rdd.map(lambda r: [tok2idx[tok] for tok in r['questionPatternModEntities'].split(' ')])\n",
    "d['seq'] = fcollect(tok_rdd)\n",
    "d['n_tok'] = collect(tok_rdd.map(len))\n",
    "\n",
    "con = df.rdd.map(mapper).cache()\n",
    "d['n_con'] = collect(con.map(len))\n",
    "idx2con = sorted(con.flatMap(lambda r: r).distinct().collect())\n",
    "con2idx = {con : idx for idx, con in enumerate(idx2con)}\n",
    "d['con'] = fcollect(con.map(lambda r: sorted(con2idx[con] for con in r)))\n",
    "\n",
    "np.savez(f'{output_dir}/concept', **d)"
   ]
  }
 ],
 "metadata": {
  "kernelspec": {
   "display_name": "Python 3",
   "language": "python",
   "name": "python3"
  },
  "language_info": {
   "codemirror_mode": {
    "name": "ipython",
    "version": 3
   },
   "file_extension": ".py",
   "mimetype": "text/x-python",
   "name": "python",
   "nbconvert_exporter": "python",
   "pygments_lexer": "ipython3",
   "version": "3.7.7"
  }
 },
 "nbformat": 4,
 "nbformat_minor": 4
}
