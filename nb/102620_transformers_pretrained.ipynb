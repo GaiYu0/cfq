{
 "cells": [
  {
   "cell_type": "code",
   "execution_count": 1,
   "metadata": {},
   "outputs": [],
   "source": [
    "import pickle\n",
    "import torch\n",
    "from transformers import AutoModel, AutoConfig, AutoTokenizer"
   ]
  },
  {
   "cell_type": "code",
   "execution_count": 2,
   "metadata": {},
   "outputs": [],
   "source": [
    "model = AutoModel.from_pretrained('bert-base-cased')\n",
    "config = AutoConfig.from_pretrained('bert-base-cased')\n",
    "tokenizer = AutoTokenizer.from_pretrained('bert-base-cased')"
   ]
  },
  {
   "cell_type": "code",
   "execution_count": 3,
   "metadata": {},
   "outputs": [
    {
     "name": "stdout",
     "output_type": "stream",
     "text": [
      "torch.Size([1, 512]) torch.Size([1, 512, 768]) torch.Size([1, 768])\n"
     ]
    }
   ],
   "source": [
    "encoded = torch.as_tensor(tokenizer.encode(\"Hello\", padding='max_length')).unsqueeze(0)\n",
    "unpooled_output, pooled_output = model(input_ids=encoded)\n",
    "print(encoded.shape, unpooled_output.shape, pooled_output.shape)"
   ]
  },
  {
   "cell_type": "code",
   "execution_count": 9,
   "metadata": {},
   "outputs": [
    {
     "data": {
      "text/plain": [
       "0"
      ]
     },
     "execution_count": 9,
     "metadata": {},
     "output_type": "execute_result"
    }
   ],
   "source": [
    "tokenizer.pad_token_id"
   ]
  },
  {
   "cell_type": "code",
   "execution_count": 47,
   "metadata": {},
   "outputs": [
    {
     "data": {
      "text/plain": [
       "[101, 196, 198, 102]"
      ]
     },
     "execution_count": 47,
     "metadata": {},
     "output_type": "execute_result"
    }
   ],
   "source": [
    "tokenizer.encode(\"{ }\")"
   ]
  },
  {
   "cell_type": "code",
   "execution_count": 51,
   "metadata": {},
   "outputs": [],
   "source": [
    "with open('../data/cfq/tok-vocab.pickle', 'rb') as f:\n",
    "    tok_vocab = pickle.load(f)\n",
    "\n",
    "with open('../data/cfq/rel-vocab.pickle', 'rb') as f:\n",
    "    rel_vocab = pickle.load(f)"
   ]
  },
  {
   "cell_type": "code",
   "execution_count": 66,
   "metadata": {},
   "outputs": [
    {
     "name": "stdout",
     "output_type": "stream",
     "text": [
      "     ! \" # $ % & ' ( ) * + , - . / ~\n",
      "[CLS]! \" # $ % &'( ) * +, -. / ~ [SEP]\n"
     ]
    }
   ],
   "source": [
    "test_str = \"! \\\" # $ % & ' ( ) * + , - . / ~\"\n",
    "print(\"     \" + test_str)\n",
    "print(tokenizer.decode(tokenizer.encode(test_str)))"
   ]
  },
  {
   "cell_type": "code",
   "execution_count": 20,
   "metadata": {},
   "outputs": [],
   "source": [
    "import numpy as np\n",
    "\n",
    "tok_vocab = pickle.load(open(\"../data/cfq/tok-vocab.pickle\", \"rb\"))\n",
    "rel_vocab = pickle.load(open(\"../data/cfq/rel-vocab.pickle\", \"rb\"))\n",
    "\n",
    "x = np.load('../data/cfq/splits/random_split.npz')\n",
    "data = np.load('../data/cfq/data.npz')"
   ]
  },
  {
   "cell_type": "code",
   "execution_count": 28,
   "metadata": {},
   "outputs": [
    {
     "name": "stdout",
     "output_type": "stream",
     "text": [
      "n_tok [13 21 13 ... 20 20 21] 239357\n",
      "seq [62  5 10 ...  8 71 26] 4620808\n",
      "isconcept [False False False ...  True False False] 4142094\n",
      "isvariable [False False False ... False  True  True] 4142094\n",
      "n [4 3 4 ... 5 5 4] 239357\n",
      "tok [71 90  5 ... 26  5 87] 1246586\n",
      "n_idx [1 1 1 ... 1 1 1] 1246586\n",
      "idx [12  8  1 ... 20 15 17] 1246670\n",
      "src [0 0 0 ... 0 0 1] 1436893\n",
      "dst [2 1 1 ... 1 1 2] 1436893\n",
      "m [ 4  7  4 ... 13 13  7] 239357\n",
      "rel [ 5  9 26 ... 26 27 19] 1436893\n"
     ]
    }
   ],
   "source": [
    "for key in data:\n",
    "    print(key, data[key], len(data[key]))"
   ]
  },
  {
   "cell_type": "code",
   "execution_count": 49,
   "metadata": {},
   "outputs": [],
   "source": [
    "arr = [ 62,   5,  38, 117,  16,  69, 117, 125, 117,  89, 117,  92,  69, 37, 126,   8,  12,   8, 71]"
   ]
  },
  {
   "cell_type": "code",
   "execution_count": 50,
   "metadata": {},
   "outputs": [
    {
     "data": {
      "text/plain": [
       "'[CLS] Did M1 write, executive produce, direct, edit, and produce a film [SEP] ns : film. film [SEP]? x0 ns : m. 02zsn [SEP]'"
      ]
     },
     "execution_count": 50,
     "metadata": {},
     "output_type": "execute_result"
    }
   ],
   "source": [
    "tokenizer.decode(tokenizer.encode(\" \".join([tok_vocab[0][z] for z in arr] + ['ns:m.02zsn'])))"
   ]
  },
  {
   "cell_type": "code",
   "execution_count": 46,
   "metadata": {},
   "outputs": [
    {
     "data": {
      "text/plain": [
       "['Chinese',\n",
       " 'parent',\n",
       " 'nationality',\n",
       " 'producer',\n",
       " 'gender',\n",
       " 'M1',\n",
       " 'played',\n",
       " 'male',\n",
       " '[SEP]',\n",
       " 'M3',\n",
       " \"'s\",\n",
       " 'ns:m.059j2',\n",
       " 'ns:film.film',\n",
       " 'ns:m.0d060g',\n",
       " 'ns:film.editor',\n",
       " 'production',\n",
       " 'executive',\n",
       " 'ns:m.0f8l9c',\n",
       " '?x4',\n",
       " 'character',\n",
       " 'ns:film.film_costumer_designer',\n",
       " 'was',\n",
       " 'Italian',\n",
       " 'found',\n",
       " 'What',\n",
       " 'writer',\n",
       " '?x1',\n",
       " '?x3',\n",
       " 'ns:m.06mkj',\n",
       " 'editor',\n",
       " 'play',\n",
       " 'M9',\n",
       " 'Who',\n",
       " 'sibling',\n",
       " 'ns:m.07ssc',\n",
       " 'ns:m.0d05w3',\n",
       " 'employed',\n",
       " 'a',\n",
       " 'write',\n",
       " 'wrote',\n",
       " 'country',\n",
       " 'Was',\n",
       " 'art',\n",
       " 'German',\n",
       " 'by',\n",
       " 'M8',\n",
       " 'female',\n",
       " 'M5',\n",
       " 'ns:film.film_distributor',\n",
       " 'ns:m.0d0vqn',\n",
       " 'M7',\n",
       " 'distributed',\n",
       " 'ns:m.03_3d',\n",
       " 'French',\n",
       " 'ns:film.actor',\n",
       " 'employer',\n",
       " 'did',\n",
       " 'ns:film.film_art_director',\n",
       " 'ns:m.0345h',\n",
       " 'of',\n",
       " 'acquire',\n",
       " 'prequel',\n",
       " 'Did',\n",
       " 'director',\n",
       " 'Dutch',\n",
       " 'ns:film.director',\n",
       " 'sequel',\n",
       " 'costume',\n",
       " 'child',\n",
       " 'produce',\n",
       " 'ns:m.02zsn',\n",
       " '?x0',\n",
       " '?x2',\n",
       " 'ns:m.03rjj',\n",
       " 'M2',\n",
       " 'Swedish',\n",
       " 'designer',\n",
       " 'American',\n",
       " '?x5',\n",
       " 'founder',\n",
       " 'founded',\n",
       " 'Which',\n",
       " 'star',\n",
       " 'M6',\n",
       " 'employee',\n",
       " 'Were',\n",
       " 'marry',\n",
       " 'ns:people.person',\n",
       " 'ns:film.writer',\n",
       " 'edit',\n",
       " 'M0',\n",
       " 'whose',\n",
       " 'and',\n",
       " 'Spanish',\n",
       " 'spouse',\n",
       " 'married',\n",
       " 'person',\n",
       " 'Canadian',\n",
       " 'ns:m.0b90_r',\n",
       " 'directed',\n",
       " 'distributor',\n",
       " 'influenced',\n",
       " 'ns:business.employer',\n",
       " 'ns:m.05zppz',\n",
       " 'Japanese',\n",
       " 'that',\n",
       " 'ns:film.production_company',\n",
       " 'acquired',\n",
       " 'ns:fictional_universe.fictional_character',\n",
       " 'ns:film.cinematographer',\n",
       " 'influence',\n",
       " 'ns:film.producer',\n",
       " 'starred',\n",
       " 'distribute',\n",
       " 'company',\n",
       " 'actor',\n",
       " 'employ',\n",
       " ',',\n",
       " 'M4',\n",
       " 'produced',\n",
       " 'written',\n",
       " 'cinematographer',\n",
       " 'edited',\n",
       " 'ns:m.09c7w0',\n",
       " 'screenwriter',\n",
       " 'direct',\n",
       " 'film',\n",
       " 'British',\n",
       " 'Mexican',\n",
       " 'were',\n",
       " '[PAD]']"
      ]
     },
     "execution_count": 46,
     "metadata": {},
     "output_type": "execute_result"
    }
   ],
   "source": [
    "tok_vocab[0]"
   ]
  },
  {
   "cell_type": "code",
   "execution_count": null,
   "metadata": {},
   "outputs": [],
   "source": []
  }
 ],
 "metadata": {
  "kernelspec": {
   "display_name": "Python 3",
   "language": "python",
   "name": "python3"
  },
  "language_info": {
   "codemirror_mode": {
    "name": "ipython",
    "version": 3
   },
   "file_extension": ".py",
   "mimetype": "text/x-python",
   "name": "python",
   "nbconvert_exporter": "python",
   "pygments_lexer": "ipython3",
   "version": "3.7.7"
  }
 },
 "nbformat": 4,
 "nbformat_minor": 4
}
